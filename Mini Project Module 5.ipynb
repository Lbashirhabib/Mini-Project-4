{
 "cells": [
  {
   "cell_type": "code",
   "execution_count": 1,
   "metadata": {},
   "outputs": [],
   "source": [
    "import pandas as pd\n",
    "import numpy as np\n",
    "from scipy import stats\n",
    "import scipy.stats as stats\n",
    "import matplotlib.pyplot as plt\n",
    "import seaborn as sns\n",
    "from datetime import datetime"
   ]
  },
  {
   "cell_type": "code",
   "execution_count": 2,
   "metadata": {},
   "outputs": [],
   "source": [
    "# Load your dataset\n",
    "df = pd.read_csv(r'C:\\Users\\hp\\Desktop\\Locked\\02. Data Science\\08. Data Science 3MTT Files\\Module 5\\marketing_AB.csv')  "
   ]
  },
  {
   "cell_type": "code",
   "execution_count": 3,
   "metadata": {},
   "outputs": [
    {
     "data": {
      "text/html": [
       "<div>\n",
       "<style scoped>\n",
       "    .dataframe tbody tr th:only-of-type {\n",
       "        vertical-align: middle;\n",
       "    }\n",
       "\n",
       "    .dataframe tbody tr th {\n",
       "        vertical-align: top;\n",
       "    }\n",
       "\n",
       "    .dataframe thead th {\n",
       "        text-align: right;\n",
       "    }\n",
       "</style>\n",
       "<table border=\"1\" class=\"dataframe\">\n",
       "  <thead>\n",
       "    <tr style=\"text-align: right;\">\n",
       "      <th></th>\n",
       "      <th>Unnamed: 0</th>\n",
       "      <th>user id</th>\n",
       "      <th>test group</th>\n",
       "      <th>converted</th>\n",
       "      <th>total ads</th>\n",
       "      <th>most ads day</th>\n",
       "      <th>most ads hour</th>\n",
       "    </tr>\n",
       "  </thead>\n",
       "  <tbody>\n",
       "    <tr>\n",
       "      <th>0</th>\n",
       "      <td>0</td>\n",
       "      <td>1069124</td>\n",
       "      <td>ad</td>\n",
       "      <td>False</td>\n",
       "      <td>130</td>\n",
       "      <td>Monday</td>\n",
       "      <td>20</td>\n",
       "    </tr>\n",
       "    <tr>\n",
       "      <th>1</th>\n",
       "      <td>1</td>\n",
       "      <td>1119715</td>\n",
       "      <td>ad</td>\n",
       "      <td>False</td>\n",
       "      <td>93</td>\n",
       "      <td>Tuesday</td>\n",
       "      <td>22</td>\n",
       "    </tr>\n",
       "    <tr>\n",
       "      <th>2</th>\n",
       "      <td>2</td>\n",
       "      <td>1144181</td>\n",
       "      <td>ad</td>\n",
       "      <td>False</td>\n",
       "      <td>21</td>\n",
       "      <td>Tuesday</td>\n",
       "      <td>18</td>\n",
       "    </tr>\n",
       "    <tr>\n",
       "      <th>3</th>\n",
       "      <td>3</td>\n",
       "      <td>1435133</td>\n",
       "      <td>ad</td>\n",
       "      <td>False</td>\n",
       "      <td>355</td>\n",
       "      <td>Tuesday</td>\n",
       "      <td>10</td>\n",
       "    </tr>\n",
       "    <tr>\n",
       "      <th>4</th>\n",
       "      <td>4</td>\n",
       "      <td>1015700</td>\n",
       "      <td>ad</td>\n",
       "      <td>False</td>\n",
       "      <td>276</td>\n",
       "      <td>Friday</td>\n",
       "      <td>14</td>\n",
       "    </tr>\n",
       "  </tbody>\n",
       "</table>\n",
       "</div>"
      ],
      "text/plain": [
       "   Unnamed: 0  user id test group  converted  total ads most ads day  \\\n",
       "0           0  1069124         ad      False        130       Monday   \n",
       "1           1  1119715         ad      False         93      Tuesday   \n",
       "2           2  1144181         ad      False         21      Tuesday   \n",
       "3           3  1435133         ad      False        355      Tuesday   \n",
       "4           4  1015700         ad      False        276       Friday   \n",
       "\n",
       "   most ads hour  \n",
       "0             20  \n",
       "1             22  \n",
       "2             18  \n",
       "3             10  \n",
       "4             14  "
      ]
     },
     "execution_count": 3,
     "metadata": {},
     "output_type": "execute_result"
    }
   ],
   "source": [
    "df.head()"
   ]
  },
  {
   "cell_type": "code",
   "execution_count": 4,
   "metadata": {},
   "outputs": [
    {
     "data": {
      "text/html": [
       "<div>\n",
       "<style scoped>\n",
       "    .dataframe tbody tr th:only-of-type {\n",
       "        vertical-align: middle;\n",
       "    }\n",
       "\n",
       "    .dataframe tbody tr th {\n",
       "        vertical-align: top;\n",
       "    }\n",
       "\n",
       "    .dataframe thead th {\n",
       "        text-align: right;\n",
       "    }\n",
       "</style>\n",
       "<table border=\"1\" class=\"dataframe\">\n",
       "  <thead>\n",
       "    <tr style=\"text-align: right;\">\n",
       "      <th></th>\n",
       "      <th>Unnamed: 0</th>\n",
       "      <th>user id</th>\n",
       "      <th>test group</th>\n",
       "      <th>converted</th>\n",
       "      <th>total ads</th>\n",
       "      <th>most ads day</th>\n",
       "      <th>most ads hour</th>\n",
       "    </tr>\n",
       "  </thead>\n",
       "  <tbody>\n",
       "    <tr>\n",
       "      <th>588096</th>\n",
       "      <td>588096</td>\n",
       "      <td>1278437</td>\n",
       "      <td>ad</td>\n",
       "      <td>False</td>\n",
       "      <td>1</td>\n",
       "      <td>Tuesday</td>\n",
       "      <td>23</td>\n",
       "    </tr>\n",
       "    <tr>\n",
       "      <th>588097</th>\n",
       "      <td>588097</td>\n",
       "      <td>1327975</td>\n",
       "      <td>ad</td>\n",
       "      <td>False</td>\n",
       "      <td>1</td>\n",
       "      <td>Tuesday</td>\n",
       "      <td>23</td>\n",
       "    </tr>\n",
       "    <tr>\n",
       "      <th>588098</th>\n",
       "      <td>588098</td>\n",
       "      <td>1038442</td>\n",
       "      <td>ad</td>\n",
       "      <td>False</td>\n",
       "      <td>3</td>\n",
       "      <td>Tuesday</td>\n",
       "      <td>23</td>\n",
       "    </tr>\n",
       "    <tr>\n",
       "      <th>588099</th>\n",
       "      <td>588099</td>\n",
       "      <td>1496395</td>\n",
       "      <td>ad</td>\n",
       "      <td>False</td>\n",
       "      <td>1</td>\n",
       "      <td>Tuesday</td>\n",
       "      <td>23</td>\n",
       "    </tr>\n",
       "    <tr>\n",
       "      <th>588100</th>\n",
       "      <td>588100</td>\n",
       "      <td>1237779</td>\n",
       "      <td>ad</td>\n",
       "      <td>False</td>\n",
       "      <td>1</td>\n",
       "      <td>Tuesday</td>\n",
       "      <td>23</td>\n",
       "    </tr>\n",
       "  </tbody>\n",
       "</table>\n",
       "</div>"
      ],
      "text/plain": [
       "        Unnamed: 0  user id test group  converted  total ads most ads day  \\\n",
       "588096      588096  1278437         ad      False          1      Tuesday   \n",
       "588097      588097  1327975         ad      False          1      Tuesday   \n",
       "588098      588098  1038442         ad      False          3      Tuesday   \n",
       "588099      588099  1496395         ad      False          1      Tuesday   \n",
       "588100      588100  1237779         ad      False          1      Tuesday   \n",
       "\n",
       "        most ads hour  \n",
       "588096             23  \n",
       "588097             23  \n",
       "588098             23  \n",
       "588099             23  \n",
       "588100             23  "
      ]
     },
     "execution_count": 4,
     "metadata": {},
     "output_type": "execute_result"
    }
   ],
   "source": [
    "df.tail()"
   ]
  },
  {
   "cell_type": "code",
   "execution_count": 17,
   "metadata": {},
   "outputs": [
    {
     "name": "stdout",
     "output_type": "stream",
     "text": [
      "        Unnamed: 0  user id test group  converted  total ads most ads day  \\\n",
      "0                0  1069124         ad      False        130       Monday   \n",
      "1                1  1119715         ad      False         93      Tuesday   \n",
      "2                2  1144181         ad      False         21      Tuesday   \n",
      "3                3  1435133         ad      False        355      Tuesday   \n",
      "4                4  1015700         ad      False        276       Friday   \n",
      "...            ...      ...        ...        ...        ...          ...   \n",
      "588096      588096  1278437         ad      False          1      Tuesday   \n",
      "588097      588097  1327975         ad      False          1      Tuesday   \n",
      "588098      588098  1038442         ad      False          3      Tuesday   \n",
      "588099      588099  1496395         ad      False          1      Tuesday   \n",
      "588100      588100  1237779         ad      False          1      Tuesday   \n",
      "\n",
      "        most ads hour  \n",
      "0                  20  \n",
      "1                  22  \n",
      "2                  18  \n",
      "3                  10  \n",
      "4                  14  \n",
      "...               ...  \n",
      "588096             23  \n",
      "588097             23  \n",
      "588098             23  \n",
      "588099             23  \n",
      "588100             23  \n",
      "\n",
      "[564577 rows x 7 columns]\n"
     ]
    }
   ],
   "source": [
    "ad_group = df[df['test group'] == 'ad']\n",
    "print(ad_group)"
   ]
  },
  {
   "cell_type": "code",
   "execution_count": 5,
   "metadata": {},
   "outputs": [
    {
     "name": "stdout",
     "output_type": "stream",
     "text": [
      "\n",
      "Missing values per column:\n",
      "Unnamed: 0       0\n",
      "user id          0\n",
      "test group       0\n",
      "converted        0\n",
      "total ads        0\n",
      "most ads day     0\n",
      "most ads hour    0\n",
      "dtype: int64\n",
      "\n",
      "Number of duplicates: 0\n",
      "\n",
      "Data types:\n",
      "Unnamed: 0        int64\n",
      "user id           int64\n",
      "test group       object\n",
      "converted          bool\n",
      "total ads         int64\n",
      "most ads day     object\n",
      "most ads hour     int64\n",
      "dtype: object\n"
     ]
    }
   ],
   "source": [
    "# Check for missing values\n",
    "print(\"\\nMissing values per column:\")\n",
    "print(df.isnull().sum())\n",
    "    \n",
    "# Check for duplicates\n",
    "duplicates = df.duplicated().sum()\n",
    "print(f\"\\nNumber of duplicates: {duplicates}\")\n",
    "if duplicates > 0:\n",
    "        df = df.drop_duplicates()\n",
    "        print(f\"Removed {duplicates} duplicates\")\n",
    "    \n",
    "# Validate column data types\n",
    "print(\"\\nData types:\")\n",
    "print(df.dtypes)"
   ]
  },
  {
   "cell_type": "code",
   "execution_count": 6,
   "metadata": {},
   "outputs": [],
   "source": [
    "# Clean and standardize group column if needed\n",
    "if 'group' in df.columns:\n",
    "        df['group'] = df['group'].str.lower().str.strip()\n",
    "        print(\"\\nGroup values after standardization:\")\n",
    "        print(df['group'].value_counts())"
   ]
  },
  {
   "cell_type": "code",
   "execution_count": 7,
   "metadata": {},
   "outputs": [],
   "source": [
    "# Convert date column if exists\n",
    "if 'date' in df.columns:\n",
    "        df['date'] = pd.to_datetime(df['date'])\n",
    "        df['day_of_week'] = df['date'].dt.day_name()\n",
    "        df['hour'] = df['date'].dt.hour"
   ]
  },
  {
   "cell_type": "code",
   "execution_count": 8,
   "metadata": {},
   "outputs": [
    {
     "name": "stdout",
     "output_type": "stream",
     "text": [
      "\n",
      "=== Exploratory Data Analysis ===\n",
      "\n",
      "Basic statistics:\n",
      "          Unnamed: 0       user id      total ads  most ads hour\n",
      "count  588101.000000  5.881010e+05  588101.000000  588101.000000\n",
      "mean   294050.000000  1.310692e+06      24.820876      14.469061\n",
      "std    169770.279667  2.022260e+05      43.715181       4.834634\n",
      "min         0.000000  9.000000e+05       1.000000       0.000000\n",
      "25%    147025.000000  1.143190e+06       4.000000      11.000000\n",
      "50%    294050.000000  1.313725e+06      13.000000      14.000000\n",
      "75%    441075.000000  1.484088e+06      27.000000      18.000000\n",
      "max    588100.000000  1.654483e+06    2065.000000      23.000000\n"
     ]
    }
   ],
   "source": [
    "# Exploratory Data Analysis\n",
    "print(\"\\n=== Exploratory Data Analysis ===\")\n",
    "print(\"\\nBasic statistics:\")\n",
    "print(df.describe())"
   ]
  },
  {
   "cell_type": "code",
   "execution_count": 10,
   "metadata": {},
   "outputs": [
    {
     "name": "stderr",
     "output_type": "stream",
     "text": [
      "C:\\Users\\hp\\AppData\\Local\\Temp\\ipykernel_26056\\914103865.py:5: FutureWarning: \n",
      "\n",
      "The `ci` parameter is deprecated. Use `errorbar=None` for the same effect.\n",
      "\n",
      "  sns.barplot(x='test group', y='converted', data=df, ci=None)\n"
     ]
    },
    {
     "data": {
      "text/plain": [
       "Text(0, 0.5, 'Conversion Rate')"
      ]
     },
     "execution_count": 10,
     "metadata": {},
     "output_type": "execute_result"
    },
    {
     "data": {
      "image/png": "[encoded data removed]",
      "text/plain": [
       "<Figure size 1500x1000 with 1 Axes>"
      ]
     },
     "metadata": {},
     "output_type": "display_data"
    }
   ],
   "source": [
    "# Visualize data distributions\n",
    "plt.figure(figsize=(15, 10))\n",
    "# Conversion rate by group\n",
    "plt.subplot(2, 2, 1)\n",
    "sns.barplot(x='test group', y='converted', data=df, ci=None)\n",
    "plt.title('Conversion Rate by Group')\n",
    "plt.xlabel('Group')\n",
    "plt.ylabel('Conversion Rate')"
   ]
  },
  {
   "cell_type": "code",
   "execution_count": 11,
   "metadata": {},
   "outputs": [
    {
     "data": {
      "image/png": "[encoded data removed]",
      "text/plain": [
       "<Figure size 640x480 with 1 Axes>"
      ]
     },
     "metadata": {},
     "output_type": "display_data"
    }
   ],
   "source": [
    "# Distribution of conversions\n",
    "plt.subplot(2, 2, 2)\n",
    "df['converted'].value_counts().plot(kind='pie', autopct='%1.1f%%')\n",
    "plt.title('Conversion Distribution')\n",
    "plt.ylabel('')\n",
    "\n",
    "# Relationship between Total Ads and conversions\n",
    "if 'total_ads' in df.columns:\n",
    "    plt.subplot(2, 2, 3)\n",
    "    sns.boxplot(x='converted', y='total_ads', data=df)\n",
    "    plt.title('Total Ads Viewed vs Conversion')\n",
    "    plt.xlabel('Converted')\n",
    "    plt.ylabel('Total Ads Viewed')"
   ]
  },
  {
   "cell_type": "code",
   "execution_count": 12,
   "metadata": {},
   "outputs": [
    {
     "data": {
      "text/plain": [
       "<Figure size 640x480 with 0 Axes>"
      ]
     },
     "metadata": {},
     "output_type": "display_data"
    }
   ],
   "source": [
    "# Conversion by day of week if date available\n",
    "if 'day_of_week' in df.columns:\n",
    "    plt.subplot(2, 2, 4)\n",
    "    day_order = ['Monday', 'Tuesday', 'Wednesday', 'Thursday', 'Friday', 'Saturday', 'Sunday']\n",
    "    sns.barplot(x='day_of_week', y='converted', data=df, order=day_order, ci=None)\n",
    "    plt.title('Conversion Rate by Day of Week')\n",
    "    plt.xlabel('Day of Week')\n",
    "    plt.ylabel('Conversion Rate')\n",
    "    plt.xticks(rotation=45)\n",
    "plt.tight_layout()\n",
    "plt.show()"
   ]
  },
  {
   "cell_type": "code",
   "execution_count": 18,
   "metadata": {},
   "outputs": [
    {
     "name": "stdout",
     "output_type": "stream",
     "text": [
      "        Unnamed: 0  user id test group  converted  total ads most ads day  \\\n",
      "18              18   900681        psa      False        248     Saturday   \n",
      "38              38   905704        psa      False         27     Thursday   \n",
      "68              68   904595        psa      False         13      Tuesday   \n",
      "140            140   901904        psa      False         32    Wednesday   \n",
      "157            157   902234        psa      False        105      Tuesday   \n",
      "...            ...      ...        ...        ...        ...          ...   \n",
      "588052      588052   900959        psa      False         16      Tuesday   \n",
      "588063      588063   902828        psa      False          3      Tuesday   \n",
      "588066      588066   914578        psa      False          1      Tuesday   \n",
      "588069      588069   909042        psa      False          6      Tuesday   \n",
      "588081      588081   904721        psa      False         16      Tuesday   \n",
      "\n",
      "        most ads hour  \n",
      "18                 19  \n",
      "38                  8  \n",
      "68                 19  \n",
      "140                19  \n",
      "157                19  \n",
      "...               ...  \n",
      "588052             22  \n",
      "588063             22  \n",
      "588066             22  \n",
      "588069             22  \n",
      "588081             23  \n",
      "\n",
      "[23524 rows x 7 columns]\n"
     ]
    }
   ],
   "source": [
    "psa_group = df[df['test group'] == 'psa']\n",
    "print(psa_group)"
   ]
  },
  {
   "cell_type": "code",
   "execution_count": 12,
   "metadata": {},
   "outputs": [
    {
     "name": "stdout",
     "output_type": "stream",
     "text": [
      "Ad Group Conversion Rate: 0.025546559636683747\n",
      "PSA Group Conversion Rate: 0.01785410644448223\n"
     ]
    }
   ],
   "source": [
    "# Calculate conversion rates\n",
    "ad_conversion_rate = ad_group['converted'].mean()\n",
    "psa_conversion_rate = psa_group['converted'].mean()\n",
    "\n",
    "print(f'Ad Group Conversion Rate: {ad_conversion_rate}')\n",
    "print(f'PSA Group Conversion Rate: {psa_conversion_rate}')"
   ]
  },
  {
   "cell_type": "code",
   "execution_count": 13,
   "metadata": {},
   "outputs": [
    {
     "name": "stdout",
     "output_type": "stream",
     "text": [
      "Estimated Revenue from Ads: $1442300\n",
      "Estimated Revenue from PSA: $42000\n"
     ]
    }
   ],
   "source": [
    "# Estimate potential revenue\n",
    "# Assuming a fixed revenue per conversion\n",
    "revenue_per_conversion = 100  # Example value\n",
    "ad_revenue = ad_group['converted'].sum() * revenue_per_conversion\n",
    "psa_revenue = psa_group['converted'].sum() * revenue_per_conversion\n",
    "\n",
    "print(f'Estimated Revenue from Ads: ${ad_revenue}')\n",
    "print(f'Estimated Revenue from PSA: ${psa_revenue}')"
   ]
  },
  {
   "cell_type": "code",
   "execution_count": 14,
   "metadata": {},
   "outputs": [],
   "source": [
    "# A/B Testing: Statistical significance testing\n",
    "# Let Perform a two-proportion Z-test\n",
    "n_ad = len(ad_group)\n",
    "n_psa = len(psa_group)\n",
    "p1 = ad_conversion_rate\n",
    "p2 = psa_conversion_rate"
   ]
  },
  {
   "cell_type": "code",
   "execution_count": 15,
   "metadata": {},
   "outputs": [
    {
     "name": "stdout",
     "output_type": "stream",
     "text": [
      "Z-score: 8.657336478930569\n",
      "P-value: 4.8291558567227926e-18\n"
     ]
    }
   ],
   "source": [
    "# we now Calculate standard error\n",
    "se = np.sqrt((p1 * (1 - p1) / n_ad) + (p2 * (1 - p2) / n_psa))\n",
    "# Calculate Z score\n",
    "z = (p1 - p2) / se\n",
    "# Calculate p-value\n",
    "p_value = stats.norm.sf(abs(z)) * 2  # Two-tailed test\n",
    "print(f'Z-score: {z}')\n",
    "print(f'P-value: {p_value}')"
   ]
  },
  {
   "cell_type": "code",
   "execution_count": 16,
   "metadata": {},
   "outputs": [
    {
     "name": "stdout",
     "output_type": "stream",
     "text": [
      "Reject the null hypothesis: Significant difference between groups.\n"
     ]
    }
   ],
   "source": [
    "# Assess statistical significance\n",
    "alpha = 0.05  # Significance level\n",
    "if p_value < alpha:\n",
    "    print('Reject the null hypothesis: Significant difference between groups.')\n",
    "else:\n",
    "    print('Fail to reject the null hypothesis: No significant difference between groups.')"
   ]
  }
 ],
 "metadata": {
  "kernelspec": {
   "display_name": "base",
   "language": "python",
   "name": "python3"
  },
  "language_info": {
   "codemirror_mode": {
    "name": "ipython",
    "version": 3
   },
   "file_extension": ".py",
   "mimetype": "text/x-python",
   "name": "python",
   "nbconvert_exporter": "python",
   "pygments_lexer": "ipython3",
   "version": "3.12.7"
  }
 },
 "nbformat": 4,
 "nbformat_minor": 2
}
